{
  "nbformat": 4,
  "nbformat_minor": 0,
  "metadata": {
    "colab": {
      "name": "HW3.ipynb",
      "provenance": [],
      "include_colab_link": true
    },
    "kernelspec": {
      "name": "python3",
      "display_name": "Python 3"
    }
  },
  "cells": [
    {
      "cell_type": "markdown",
      "metadata": {
        "id": "view-in-github",
        "colab_type": "text"
      },
      "source": [
        "<a href=\"https://colab.research.google.com/github/Eandrushenko/CPTS-437/blob/master/HW3.ipynb\" target=\"_parent\"><img src=\"https://colab.research.google.com/assets/colab-badge.svg\" alt=\"Open In Colab\"/></a>"
      ]
    },
    {
      "cell_type": "markdown",
      "metadata": {
        "id": "_inIyGz9XfS0",
        "colab_type": "text"
      },
      "source": [
        "Elijah Andrushenko\n",
        "CPTS 437\n",
        "Introduction to Machine Learning\n",
        "Homework 3\n",
        "\n",
        "---\n",
        "1. \n",
        "When doing leave-one-out cross validation on 200 data points where half are positive examples and half are negative examples. We can expect 0% accuracy. This is due to the fact that we are removing one item from the training set everytime. For example, if take out a positive example from the training data and make it our test data we now have 49 positive and 50 negative examples, simple majority classifier would give us a negative on the training but our test data is positive. We can continue to do this for however many iterations leaving us with the aforementioned 0% accuracy since the training data results and test data results will never be the same.\n",
        "\n",
        "2. \n",
        "http://prntscr.com/mlcie8\n",
        "\n",
        "3.\n",
        "•Decision Tree does the best most likely because the data might be decided by a few significant features rather than every feature having an equal impact on the classification. Decision Trees are excellent when classification is decided by a few significant features.\n",
        "•KNN is best when every feature has an equal impact on the classification. Since KNN was best in Monk3, then Monk3 features must have all played a role in classification unlike Monk2 and Monk1.\n",
        "•Perceptron is excellent when the data is linear seperable. The Monk data must have been created the same issues that the XOR problem creates for Perceptron, being not linearly sperarable. \n",
        "\n",
        "When it comes to the t-test I only got nan as results, so based on that information it must not be statistically significant.\n"
      ]
    },
    {
      "cell_type": "code",
      "metadata": {
        "id": "fojHoAS7uqAQ",
        "colab_type": "code",
        "outputId": "d81e1e89-b771-4723-a5ea-2f36a12f73e3",
        "colab": {
          "resources": {
            "http://localhost:8080/nbextensions/google.colab/files.js": {
              "data": "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",
              "ok": true,
              "headers": [
                [
                  "content-type",
                  "application/javascript"
                ]
              ],
              "status": 200,
              "status_text": ""
            }
          },
          "base_uri": "https://localhost:8080/",
          "height": 190
        }
      },
      "source": [
        "#SETUP\n",
        "import collections\n",
        "import numpy as np\n",
        "from google.colab import drive\n",
        "from google.colab import files\n",
        "\n",
        "uploaded = files.upload()\n",
        "monk1 = np.loadtxt(fname='monks-1.csv', delimiter=',')\n",
        "uploaded = files.upload()\n",
        "monk2 = np.loadtxt(fname='monks-2.csv', delimiter=',')\n",
        "uploaded = files.upload()\n",
        "monk3 = np.loadtxt(fname='monks-3.csv', delimiter=',')"
      ],
      "execution_count": 0,
      "outputs": [
        {
          "output_type": "display_data",
          "data": {
            "text/html": [
              "\n",
              "     <input type=\"file\" id=\"files-1c868638-1de5-4f59-a9d3-1c0414a94bb6\" name=\"files[]\" multiple disabled />\n",
              "     <output id=\"result-1c868638-1de5-4f59-a9d3-1c0414a94bb6\">\n",
              "      Upload widget is only available when the cell has been executed in the\n",
              "      current browser session. Please rerun this cell to enable.\n",
              "      </output>\n",
              "      <script src=\"/nbextensions/google.colab/files.js\"></script> "
            ],
            "text/plain": [
              "<IPython.core.display.HTML object>"
            ]
          },
          "metadata": {
            "tags": []
          }
        },
        {
          "output_type": "stream",
          "text": [
            "Saving monks-1.csv to monks-1 (4).csv\n"
          ],
          "name": "stdout"
        },
        {
          "output_type": "display_data",
          "data": {
            "text/html": [
              "\n",
              "     <input type=\"file\" id=\"files-c57e0ba5-5fbf-4a84-9f20-2105aaa70aca\" name=\"files[]\" multiple disabled />\n",
              "     <output id=\"result-c57e0ba5-5fbf-4a84-9f20-2105aaa70aca\">\n",
              "      Upload widget is only available when the cell has been executed in the\n",
              "      current browser session. Please rerun this cell to enable.\n",
              "      </output>\n",
              "      <script src=\"/nbextensions/google.colab/files.js\"></script> "
            ],
            "text/plain": [
              "<IPython.core.display.HTML object>"
            ]
          },
          "metadata": {
            "tags": []
          }
        },
        {
          "output_type": "stream",
          "text": [
            "Saving monks-2.csv to monks-2 (1).csv\n"
          ],
          "name": "stdout"
        },
        {
          "output_type": "display_data",
          "data": {
            "text/html": [
              "\n",
              "     <input type=\"file\" id=\"files-33fb5d88-566a-426b-a84e-210e95b102ba\" name=\"files[]\" multiple disabled />\n",
              "     <output id=\"result-33fb5d88-566a-426b-a84e-210e95b102ba\">\n",
              "      Upload widget is only available when the cell has been executed in the\n",
              "      current browser session. Please rerun this cell to enable.\n",
              "      </output>\n",
              "      <script src=\"/nbextensions/google.colab/files.js\"></script> "
            ],
            "text/plain": [
              "<IPython.core.display.HTML object>"
            ]
          },
          "metadata": {
            "tags": []
          }
        },
        {
          "output_type": "stream",
          "text": [
            "Saving monks-3.csv to monks-3.csv\n"
          ],
          "name": "stdout"
        }
      ]
    },
    {
      "cell_type": "code",
      "metadata": {
        "id": "Y89QSELM9VY0",
        "colab_type": "code",
        "outputId": "53c224a0-06b8-4094-939f-3b03f793e42b",
        "colab": {
          "base_uri": "https://localhost:8080/",
          "height": 67
        }
      },
      "source": [
        "m1class = monk1[:, 0]\n",
        "m1feats = monk1[:, 1:]\n",
        "\n",
        "m2class = monk2[:, 0]\n",
        "m2feats = monk2[:, 1:]\n",
        "\n",
        "m3class = monk3[:, 0]\n",
        "m3feats = monk3[:, 1:]\n",
        "    \n",
        "print(len(m1class))\n",
        "print(len(m2class))\n",
        "print(len(m3class))"
      ],
      "execution_count": 0,
      "outputs": [
        {
          "output_type": "stream",
          "text": [
            "556\n",
            "601\n",
            "554\n"
          ],
          "name": "stdout"
        }
      ]
    },
    {
      "cell_type": "code",
      "metadata": {
        "id": "PSiiED6VCLpd",
        "colab_type": "code",
        "colab": {}
      },
      "source": [
        "from sklearn.linear_model import Perceptron #https://scikit-learn.org/stable/modules/generated/sklearn.linear_model.Perceptron.html\n",
        "from sklearn.model_selection import LeaveOneOut #https://scikit-learn.org/stable/modules/generated/sklearn.model_selection.LeaveOneOut.html\n",
        "from sklearn.neighbors import KNeighborsClassifier #https://scikit-learn.org/stable/modules/generated/sklearn.neighbors.KNeighborsClassifier.html\n",
        "from sklearn import tree #https://scikit-learn.org/stable/modules/generated/sklearn.tree.DecisionTreeClassifier.html\n",
        "from sklearn.naive_bayes import GaussianNB #https://scikit-learn.org/stable/modules/generated/sklearn.naive_bayes.GaussianNB.html\n",
        "from sklearn.model_selection import KFold #https://scikit-learn.org/stable/modules/generated/sklearn.model_selection.KFold.html\n",
        "\n",
        "\n",
        "\n",
        "#https://scikit-learn.org/stable/modules/generated/sklearn.model_selection.LeaveOneOut.html\n",
        "#https://scikit-learn.org/stable/modules/generated/sklearn.linear_model.Perceptron.html\n",
        "def get_accuracy(features, classifier, clf, validation):\n",
        "  splitter = validation.get_n_splits(features)\n",
        "  accuracy = np.ndarray(shape=(1,splitter))\n",
        "  i = 0\n",
        "  for train_index, test_index in validation.split(features):\n",
        "    features_train, features_test = features[train_index], features[test_index]\n",
        "    classifier_train, classifier_test = classifier[train_index], classifier[test_index]\n",
        "    clf.fit(features_train, classifier_train)\n",
        "    accuracy[0][i -1] = clf.score(features_test, classifier_test)\n",
        "    i += 1\n",
        "  return np.average(accuracy)\n",
        "  \n",
        "#Leave One Out\n",
        "LOO = LeaveOneOut()\n",
        "\n",
        "#LOO Perceptron\n",
        "clf = Perceptron(max_iter=50)\n",
        "pm1 = get_accuracy(m1feats, m1class, clf, LOO)\n",
        "pm2 = get_accuracy(m2feats, m2class, clf, LOO)\n",
        "pm3 = get_accuracy(m3feats, m3class, clf, LOO)\n",
        "\n",
        "#LOO KNN\n",
        "clf = KNeighborsClassifier(n_neighbors = 3)\n",
        "km1 = get_accuracy(m1feats, m1class, clf, LOO)\n",
        "km2 = get_accuracy(m2feats, m2class, clf, LOO)\n",
        "km3 = get_accuracy(m3feats, m3class, clf, LOO)\n",
        "\n",
        "#LOO Tree\n",
        "clf = tree.DecisionTreeClassifier(max_depth=10)\n",
        "tm1 = get_accuracy(m1feats, m1class, clf, LOO)\n",
        "tm2 = get_accuracy(m2feats, m2class, clf, LOO)\n",
        "tm3 = get_accuracy(m3feats, m3class, clf, LOO)\n",
        "\n",
        "#LOO NB\n",
        "clf = GaussianNB()\n",
        "gm1 = get_accuracy(m1feats, m1class, clf, LOO)\n",
        "gm2 = get_accuracy(m2feats, m2class, clf, LOO)\n",
        "gm3 = get_accuracy(m3feats, m3class, clf, LOO)\n",
        "\n",
        "#KFold\n",
        "KF = KFold(n_splits = 3)\n",
        "\n",
        "#KF Perceptron\n",
        "clf = Perceptron(max_iter=50)\n",
        "ppm1 = get_accuracy(m1feats, m1class, clf, KF)\n",
        "ppm2 = get_accuracy(m2feats, m2class, clf, KF)\n",
        "ppm3 = get_accuracy(m3feats, m3class, clf, KF)\n",
        "\n",
        "#KF KNN\n",
        "clf = KNeighborsClassifier(n_neighbors = 3)\n",
        "kkm1 = get_accuracy(m1feats, m1class, clf, KF)\n",
        "kkm2 = get_accuracy(m2feats, m2class, clf, KF)\n",
        "kkm3 = get_accuracy(m3feats, m3class, clf, KF)\n",
        "\n",
        "#KF Tree\n",
        "clf = tree.DecisionTreeClassifier(max_depth=10)\n",
        "ttm1 = get_accuracy(m1feats, m1class, clf, KF)\n",
        "ttm2 = get_accuracy(m2feats, m2class, clf, KF)\n",
        "ttm3 = get_accuracy(m3feats, m3class, clf, KF)\n",
        "\n",
        "#KF NB\n",
        "clf = GaussianNB()\n",
        "ggm1 = get_accuracy(m1feats, m1class, clf, KF)\n",
        "ggm2 = get_accuracy(m2feats, m2class, clf, KF)\n",
        "ggm3 = get_accuracy(m3feats, m3class, clf, KF)"
      ],
      "execution_count": 0,
      "outputs": []
    },
    {
      "cell_type": "code",
      "metadata": {
        "id": "GZGPxcFbafbS",
        "colab_type": "code",
        "outputId": "0315cf54-509e-4e6b-a2e4-e8616d43dbfd",
        "colab": {
          "base_uri": "https://localhost:8080/",
          "height": 504
        }
      },
      "source": [
        "from scipy import stats\n",
        "\n",
        "#Results, a lot of hard coding but at least it looks nice ☺\n",
        "print(\"|           Results for Leave One Out           |\")\n",
        "print(\"|Monk # | Perceptron  | KNN    | Tree   | NB    |\")\n",
        "print(\"|Monk 1 |    %.2f    | %.2f  | %.2f  | %.2f |\" % ((round(pm1 * 100,2)), (round(km1 * 100,2)), (round(tm1 * 100,2)), (round(gm1 * 100,2))))\n",
        "print(\"|Monk 2 |    %.2f    | %.2f  | %.2f | %.2f |\" % ((round(pm2 * 100,2)), (round(km2 * 100,2)), (round(tm2 * 100,2)), (round(gm2 * 100,2))))\n",
        "print(\"|Monk 3 |    %.2f    | %.2f  | %.2f  | %.2f |\\n\" % ((round(pm3 * 100,2)), (round(km3 * 100,2)), (round(tm3 * 100,2)), (round(gm3 * 100,2))))\n",
        "print(\"|           Results for KFold where K = 3       |\")\n",
        "print(\"|Monk # | Perceptron  | KNN    | Tree   | NB    |\")\n",
        "print(\"|Monk 1 |    %.2f    | %.2f  | %.2f  | %.2f |\" % ((round(ppm1 * 100,2)), (round(kkm1 * 100,2)), (round(ttm1 * 100,2)), (round(ggm1 * 100,2))))\n",
        "print(\"|Monk 2 |    %.2f    | %.2f  | %.2f  | %.2f |\" % ((round(ppm2 * 100,2)), (round(kkm2 * 100,2)), (round(ttm2 * 100,2)), (round(ggm2 * 100,2))))\n",
        "print(\"|Monk 3 |    %.2f    | %.2f  | %.2f  | %.2f |\\n\" % ((round(ppm3 * 100,2)), (round(kkm3 * 100,2)), (round(ttm3 * 100,2)), (round(ggm3 * 100,2))))\n",
        "print(\"|           Performance Results                 |\")\n",
        "print(\"|Monk # |  Validation Type |  Best |  Worst     |\")\n",
        "print(\"|Monk 1 |   Leave One Out  |  Tree | Perceptron |\")\n",
        "print(\"|Monk 2 |   Leave One Out  |  Tree | Perceptron |\")\n",
        "print(\"|Monk 3 |   Leave One Out  |  KNN  | Perceptron |\")\n",
        "print(\"|Monk 1 |  KFold where K=3 |  Tree | Perceptron |\")\n",
        "print(\"|Monk 2 |  KFold where K=3 |  Tree | Perceptron |\")\n",
        "print(\"|Monk 3 |  KFold where K=3 |  Tree | Perceptron |\\n\")\n",
        "\n",
        "#https://docs.scipy.org/doc/scipy/reference/generated/scipy.stats.ttest_ind.html\n",
        "tstat, pvalue = stats.ttest_ind(pm1, tm1)\n",
        "print(tstat)\n",
        "print(pvalue)\n",
        "print(\"\\n\")"
      ],
      "execution_count": 0,
      "outputs": [
        {
          "output_type": "stream",
          "text": [
            "|           Results for Leave One Out           |\n",
            "|Monk # | Perceptron  | KNN    | Tree   | NB    |\n",
            "|Monk 1 |    65.65    | 90.11  | 98.20  | 66.55 |\n",
            "|Monk 2 |    52.08    | 72.38  | 100.00 | 65.06 |\n",
            "|Monk 3 |    76.17    | 97.83  | 96.57  | 91.70 |\n",
            "\n",
            "|           Results for KFold where K = 3       |\n",
            "|Monk # | Perceptron  | KNN    | Tree   | NB    |\n",
            "|Monk 1 |    55.58    | 77.70  | 92.11  | 61.32 |\n",
            "|Monk 2 |    55.22    | 69.55  | 96.34  | 57.39 |\n",
            "|Monk 3 |    78.33    | 94.40  | 96.39  | 91.16 |\n",
            "\n",
            "|           Performance Results                 |\n",
            "|Monk # |  Validation Type |  Best |  Worst     |\n",
            "|Monk 1 |   Leave One Out  |  Tree | Perceptron |\n",
            "|Monk 2 |   Leave One Out  |  Tree | Perceptron |\n",
            "|Monk 3 |   Leave One Out  |  KNN  | Perceptron |\n",
            "|Monk 1 |  KFold where K=3 |  Tree | Perceptron |\n",
            "|Monk 2 |  KFold where K=3 |  Tree | Perceptron |\n",
            "|Monk 3 |  KFold where K=3 |  Tree | Perceptron |\n",
            "\n",
            "nan\n",
            "nan\n",
            "\n",
            "\n"
          ],
          "name": "stdout"
        },
        {
          "output_type": "stream",
          "text": [
            "/usr/local/lib/python3.6/dist-packages/numpy/core/fromnumeric.py:3194: RuntimeWarning: Degrees of freedom <= 0 for slice\n",
            "  **kwargs)\n",
            "/usr/local/lib/python3.6/dist-packages/numpy/core/_methods.py:127: RuntimeWarning: invalid value encountered in double_scalars\n",
            "  ret = ret.dtype.type(ret / rcount)\n"
          ],
          "name": "stderr"
        }
      ]
    }
  ]
}