{
  "nbformat": 4,
  "nbformat_minor": 0,
  "metadata": {
    "colab": {
      "name": "HW5.ipynb",
      "provenance": [],
      "include_colab_link": true
    },
    "kernelspec": {
      "name": "python3",
      "display_name": "Python 3"
    }
  },
  "cells": [
    {
      "cell_type": "markdown",
      "metadata": {
        "id": "view-in-github",
        "colab_type": "text"
      },
      "source": [
        "<a href=\"https://colab.research.google.com/github/Eandrushenko/CPTS-437/blob/master/HW5.ipynb\" target=\"_parent\"><img src=\"https://colab.research.google.com/assets/colab-badge.svg\" alt=\"Open In Colab\"/></a>"
      ]
    },
    {
      "cell_type": "markdown",
      "metadata": {
        "id": "x5ZaSSKqnCph",
        "colab_type": "text"
      },
      "source": [
        "Elijah Andrushenko\n",
        "Introduction to Machine Learning\n",
        "03-28-2019\n",
        "CPTS 437\n",
        "\n",
        "---\n",
        "\n",
        "1 & 2.\n",
        "http://prntscr.com/n6ezqt\n",
        "\n",
        "3.\n",
        "Number of units\n",
        "As the of number increases, training performance gets better but can overfit the data\n",
        "More hidden units, lower bias\n",
        "source from Daume:\n",
        "http://prntscr.com/n6eqvq\n",
        "\n",
        "4.\n",
        "No PCA -> 265\n",
        "fold  0 : 0.9793233082706767\n",
        "fold  1 : 0.9830508474576272\n",
        "fold  2 : 0.9811320754716981\n",
        "Average : 0.981168743733334\n",
        "\n",
        "PCA -> 264\n",
        "fold  0 : 0.9755639097744361\n",
        "fold  1 : 0.9774011299435028\n",
        "fold  2 : 0.9811320754716981\n",
        "Average : 0.978032371729879\n",
        "\n",
        "5. \n",
        "• Get data set of planets: Finding a good data set to use for our project is essential (By April 1st)\n",
        "• Normalize Data set: Make the data ready for use and edit out any useless things in the data (By April 6th)\n",
        "• Run KNN on data set: Our main goal was to use KNN/k-Means so this will be done first (By April 13th)\n",
        "• Add other classifiers possibly but mostly tweak KNN/K-Means in various other ways and examine the data: Ideas would be setting Earth as the center of a cluster and then not as a center in another data set and adjusting the K-Value, or making a decision tree and cherry picking the top data points to combat dimensionality, etc... (By April 20th)\n",
        "• Create Poster: This should be done before presentation day of course (By April 24th)\n",
        "•Prepare presentations to Dr. Cook: Be ready to show the professor our entire project (By April 28th)\n"
      ]
    },
    {
      "cell_type": "code",
      "metadata": {
        "id": "052zJCzf7tKG",
        "colab_type": "code",
        "colab": {}
      },
      "source": [
        "import numpy as np\n",
        "from sklearn.neural_network import MLPClassifier as mlp\n",
        "from sklearn.ensemble import RandomForestClassifier as rf\n",
        "from sklearn.linear_model import LogisticRegression as lr\n",
        "from sklearn.ensemble import VotingClassifier as vc\n",
        "from sklearn.model_selection import cross_validate\n",
        "from sklearn.decomposition import PCA\n",
        "from google.colab import drive\n",
        "from google.colab import files\n",
        "\n",
        "def read_data():\n",
        "  uploaded = files.upload()\n",
        "  data = np.loadtxt(fname='semeion.txt')\n",
        "  X = data[:,:-1]\n",
        "  y = data[:,-1]\n",
        "  return X,y\n",
        "\n",
        "X, y = read_data()\n",
        "\n"
      ],
      "execution_count": 0,
      "outputs": []
    },
    {
      "cell_type": "code",
      "metadata": {
        "id": "Z5hwoDka1ws6",
        "colab_type": "code",
        "outputId": "5eda3e9f-6936-46b7-f7a3-384b69ba760a",
        "colab": {
          "base_uri": "https://localhost:8080/",
          "height": 218
        }
      },
      "source": [
        "def print_results(clf, X, y):\n",
        "\tvote = vc(clf)\n",
        "\tscores = cross_validate(vote, X, y, cv=3)['test_score'].tolist()\n",
        "\tfor score in scores:\n",
        "\t\tprint('fold ', scores.index(score), ':', score)\n",
        "\tprint('Average :', sum(scores)/len(scores))\n",
        "  \n",
        "print(\"No PCA ->\", len(X[0]))\n",
        "class1 = mlp(alpha=0.00001, activation='relu')\n",
        "class2 = rf(n_estimators=10)\n",
        "class3 = lr(max_iter=50)\n",
        "print_results([('MLPClassifier', clf1), ('RandomForestClassifier', clf2), ('LogisticRegression', clf3)], X, y)\n",
        "\n",
        "print(\"\\n\")\n",
        "pca = PCA(n_components='mle')\n",
        "X2 = pca.fit_transform(X)\n",
        "print(\"PCA ->\", pca.n_components_)\n",
        "print_results([('MLPClassifier', clf1), ('RandomForestClassifier', clf2), ('LogisticRegression', clf3)], X2, y)\n"
      ],
      "execution_count": 0,
      "outputs": [
        {
          "output_type": "stream",
          "text": [
            "No PCA -> 265\n",
            "fold  0 : 0.9774436090225563\n",
            "fold  1 : 0.9830508474576272\n",
            "fold  2 : 0.9867924528301887\n",
            "Average : 0.9824289697701242\n",
            "\n",
            "\n",
            "PCA -> 264\n",
            "fold  0 : 0.9718045112781954\n",
            "fold  1 : 0.9774011299435028\n",
            "fold  2 : 0.9811320754716981\n",
            "Average : 0.9767792388977988\n"
          ],
          "name": "stdout"
        }
      ]
    }
  ]
}